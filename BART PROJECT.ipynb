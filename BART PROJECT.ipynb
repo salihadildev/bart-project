{
 "cells": [
  {
   "cell_type": "markdown",
   "id": "0ebcda08-719c-4a92-8371-c34baf3497e4",
   "metadata": {},
   "source": [
    "# BART PROJECT"
   ]
  },
  {
   "cell_type": "markdown",
   "id": "e6b75a98-7d3c-433b-b0a7-993606878677",
   "metadata": {},
   "source": [
    "<img src=\"https://preview.redd.it/e13guqvbrl3c1.jpg?width=3600&format=pjpg&auto=webp&s=95000fa1edb9c65063980e77eb0edda326478437\">"
   ]
  },
  {
   "cell_type": "markdown",
   "id": "9ef8ff81-a525-4161-82e5-418ed249e418",
   "metadata": {},
   "source": [
    "<a href=\"https://www.kaggle.com/datasets/mrgeislinger/bart-ridership\" target=\"_blank\">Data burada</a>"
   ]
  },
  {
   "cell_type": "markdown",
   "id": "0141e70c",
   "metadata": {},
   "source": [
    "# BART PROJECT\n",
    "\n",
    "## 1. Veri Hazırlığı\n",
    "- **2016 ve 2017 Yılı Yolcu Verileri**: İki yılın yolcu verilerini birleştirerek tek bir df oluşturduk.\n",
    "- **İstasyon Verileri**: İstasyon verileri dosyası ile birleştirdik.\n",
    "\n",
    "## 2. Aşağıdaki soruları cevapladık:\n",
    "\n",
    "### A. Hangi BART İstasyonu En Yoğun?\n",
    "- En fazla yolcu taşıyan istasyonu belirlemek için yolcu verilerini analiz edip. Her istasyonun toplam yolcu sayısını hesapladık.\n",
    "\n",
    "### B. En Az Popüler BART Rotası Nedir?\n",
    "- Tüm rotaları inceleyip ve en az yolcu taşıyan rotayı belirledik.\n",
    "\n",
    "### C. Berkeley'den SF'ye Koltuk Bulmak İçin En İyi Zaman Nedir?\n",
    "- İki istasyonu filtreleyip kaç yolcu olduğunu bulduk.\n",
    "\n",
    "### D. Haftanın Hangi Günü En Yoğun?\n",
    "- Haftanın günlerine göre yolcu sayısını görselleştirdik.\n",
    "\n",
    "### E. Gece Geç Saatlerde BART'ı Kaç Kişi Kullanıyor?\n",
    "- Gece saatlerinde 22:00 - 06:00 arasını filtreledik yolcu sayısını hesapladık.\n",
    "\n",
    "### F. POWL ve DBRK İstasyonları Arasındaki Mesafesini Hesaplayın.\n",
    "- İstasyonların koordinatlarını kullanarak aralarındaki mesafeyi hesaplamak için bir yöntem geliştirdik **spatial** paketiyle.\n",
    "\n",
    "## 3. Sonuç\n",
    "Bu adımları takip ederek BART yolcu taşımacılığı hakkında derinlemesine bir analiz yapıp **Regression** modeli geliştirdik, 4 model denedik ve %80 üstü başarılı olduk."
   ]
  },
  {
   "cell_type": "code",
   "execution_count": 112,
   "id": "f7b69384",
   "metadata": {},
   "outputs": [],
   "source": [
    "import pandas as pd\n",
    "import numpy as np\n",
    "import matplotlib.pyplot as plt\n",
    "import seaborn as sns\n",
    "import warnings\n",
    "warnings.filterwarnings(\"ignore\")\n",
    "pd.set_option(\"display.max_columns\",100)\n",
    "from sklearn.preprocessing import StandardScaler\n",
    "from tensorflow import keras\n",
    "from tensorflow.keras import layers\n",
    "from sklearn.linear_model import LinearRegression\n",
    "from sklearn.linear_model import Ridge,Lasso\n",
    "from sklearn.linear_model import ElasticNet\n",
    "from sklearn.neighbors import KNeighborsRegressor\n",
    "from sklearn.ensemble import GradientBoostingRegressor\n",
    "from sklearn.tree import ExtraTreeRegressor\n",
    "from sklearn.tree import DecisionTreeRegressor\n",
    "from xgboost import XGBRegressor\n",
    "from sklearn.model_selection import train_test_split\n",
    "from sklearn.metrics import mean_squared_error,r2_score,mean_absolute_error\n",
    "warnings.filterwarnings(\"ignore\")\n",
    "pd.set_option(\"display.max_columns\",100)"
   ]
  },
  {
   "cell_type": "code",
   "execution_count": 46,
   "id": "c95d3323",
   "metadata": {},
   "outputs": [],
   "source": [
    "df1=pd.read_csv('date-hour-soo-dest-2016.csv')"
   ]
  },
  {
   "cell_type": "code",
   "execution_count": 47,
   "id": "32097ec5",
   "metadata": {},
   "outputs": [],
   "source": [
    "df2=pd.read_csv('date-hour-soo-dest-2017.csv')"
   ]
  },
  {
   "cell_type": "code",
   "execution_count": 27,
   "id": "03e161f6-9477-4836-be07-88e41a81415e",
   "metadata": {},
   "outputs": [],
   "source": [
    "df4=pd.read_csv('station_coords.csv')"
   ]
  },
  {
   "cell_type": "code",
   "execution_count": 28,
   "id": "cc4d22b8-989a-41d2-bfea-c7399cd23f69",
   "metadata": {},
   "outputs": [],
   "source": [
    "df5=pd.read_csv('station_names.csv')"
   ]
  },
  {
   "cell_type": "code",
   "execution_count": 48,
   "id": "9d10b7de",
   "metadata": {},
   "outputs": [],
   "source": [
    "df=pd.concat([df1,df2])"
   ]
  },
  {
   "cell_type": "code",
   "execution_count": 49,
   "id": "fa0c65d5",
   "metadata": {},
   "outputs": [
    {
     "data": {
      "text/html": [
       "<div>\n",
       "<style scoped>\n",
       "    .dataframe tbody tr th:only-of-type {\n",
       "        vertical-align: middle;\n",
       "    }\n",
       "\n",
       "    .dataframe tbody tr th {\n",
       "        vertical-align: top;\n",
       "    }\n",
       "\n",
       "    .dataframe thead th {\n",
       "        text-align: right;\n",
       "    }\n",
       "</style>\n",
       "<table border=\"1\" class=\"dataframe\">\n",
       "  <thead>\n",
       "    <tr style=\"text-align: right;\">\n",
       "      <th></th>\n",
       "      <th>Date</th>\n",
       "      <th>Hour</th>\n",
       "      <th>Origin Station</th>\n",
       "      <th>Destination Station</th>\n",
       "      <th>Trip Count</th>\n",
       "    </tr>\n",
       "  </thead>\n",
       "  <tbody>\n",
       "    <tr>\n",
       "      <th>9974090</th>\n",
       "      <td>2018-01-01</td>\n",
       "      <td>2</td>\n",
       "      <td>WOAK</td>\n",
       "      <td>POWL</td>\n",
       "      <td>3</td>\n",
       "    </tr>\n",
       "    <tr>\n",
       "      <th>9974091</th>\n",
       "      <td>2018-01-01</td>\n",
       "      <td>2</td>\n",
       "      <td>WOAK</td>\n",
       "      <td>RICH</td>\n",
       "      <td>1</td>\n",
       "    </tr>\n",
       "    <tr>\n",
       "      <th>9974092</th>\n",
       "      <td>2018-01-01</td>\n",
       "      <td>2</td>\n",
       "      <td>WOAK</td>\n",
       "      <td>SBRN</td>\n",
       "      <td>1</td>\n",
       "    </tr>\n",
       "    <tr>\n",
       "      <th>9974093</th>\n",
       "      <td>2018-01-01</td>\n",
       "      <td>2</td>\n",
       "      <td>WOAK</td>\n",
       "      <td>SHAY</td>\n",
       "      <td>2</td>\n",
       "    </tr>\n",
       "    <tr>\n",
       "      <th>9974094</th>\n",
       "      <td>2018-01-01</td>\n",
       "      <td>2</td>\n",
       "      <td>WOAK</td>\n",
       "      <td>WOAK</td>\n",
       "      <td>2</td>\n",
       "    </tr>\n",
       "  </tbody>\n",
       "</table>\n",
       "</div>"
      ],
      "text/plain": [
       "               Date  Hour Origin Station Destination Station  Trip Count\n",
       "9974090  2018-01-01     2           WOAK                POWL           3\n",
       "9974091  2018-01-01     2           WOAK                RICH           1\n",
       "9974092  2018-01-01     2           WOAK                SBRN           1\n",
       "9974093  2018-01-01     2           WOAK                SHAY           2\n",
       "9974094  2018-01-01     2           WOAK                WOAK           2"
      ]
     },
     "execution_count": 49,
     "metadata": {},
     "output_type": "execute_result"
    }
   ],
   "source": [
    "df.tail()"
   ]
  },
  {
   "cell_type": "code",
   "execution_count": 50,
   "id": "f181ef1a",
   "metadata": {},
   "outputs": [
    {
     "data": {
      "text/plain": [
       "(19947757, 5)"
      ]
     },
     "execution_count": 50,
     "metadata": {},
     "output_type": "execute_result"
    }
   ],
   "source": [
    "df.shape"
   ]
  },
  {
   "cell_type": "code",
   "execution_count": 51,
   "id": "6d33e4fb",
   "metadata": {},
   "outputs": [
    {
     "name": "stdout",
     "output_type": "stream",
     "text": [
      "<class 'pandas.core.frame.DataFrame'>\n",
      "Index: 19947757 entries, 0 to 9974094\n",
      "Data columns (total 5 columns):\n",
      " #   Column               Dtype \n",
      "---  ------               ----- \n",
      " 0   Date                 object\n",
      " 1   Hour                 int64 \n",
      " 2   Origin Station       object\n",
      " 3   Destination Station  object\n",
      " 4   Trip Count           int64 \n",
      "dtypes: int64(2), object(3)\n",
      "memory usage: 913.1+ MB\n"
     ]
    }
   ],
   "source": [
    "df.info()"
   ]
  },
  {
   "cell_type": "code",
   "execution_count": 52,
   "id": "32668298",
   "metadata": {},
   "outputs": [],
   "source": [
    "df[\"Date\"]=pd.to_datetime(df['Date'])\n",
    "\n",
    "df[\"Day\"]=df[\"Date\"].dt.dayofweek\n",
    "df[\"Month\"]=df[\"Date\"].dt.month\n",
    "df[\"Year\"]=df[\"Date\"].dt.year\n",
    "\n",
    "\n",
    "df['WeekDay']=df['Date'].dt.day_name()\n",
    "df['Month_Name']=df['Date'].dt.month_name()\n",
    "\n",
    "df.drop(\"Date\",axis=1,inplace=True)"
   ]
  },
  {
   "cell_type": "code",
   "execution_count": 53,
   "id": "8e1d7b65-5a8d-4db4-a440-fcae5d6372e9",
   "metadata": {},
   "outputs": [
    {
     "data": {
      "text/html": [
       "<div>\n",
       "<style scoped>\n",
       "    .dataframe tbody tr th:only-of-type {\n",
       "        vertical-align: middle;\n",
       "    }\n",
       "\n",
       "    .dataframe tbody tr th {\n",
       "        vertical-align: top;\n",
       "    }\n",
       "\n",
       "    .dataframe thead th {\n",
       "        text-align: right;\n",
       "    }\n",
       "</style>\n",
       "<table border=\"1\" class=\"dataframe\">\n",
       "  <thead>\n",
       "    <tr style=\"text-align: right;\">\n",
       "      <th></th>\n",
       "      <th>Hour</th>\n",
       "      <th>Origin Station</th>\n",
       "      <th>Destination Station</th>\n",
       "      <th>Trip Count</th>\n",
       "      <th>Day</th>\n",
       "      <th>Month</th>\n",
       "      <th>Year</th>\n",
       "      <th>WeekDay</th>\n",
       "      <th>Month_Name</th>\n",
       "    </tr>\n",
       "  </thead>\n",
       "  <tbody>\n",
       "    <tr>\n",
       "      <th>0</th>\n",
       "      <td>0</td>\n",
       "      <td>12TH</td>\n",
       "      <td>12TH</td>\n",
       "      <td>1</td>\n",
       "      <td>4</td>\n",
       "      <td>1</td>\n",
       "      <td>2016</td>\n",
       "      <td>Friday</td>\n",
       "      <td>January</td>\n",
       "    </tr>\n",
       "    <tr>\n",
       "      <th>1</th>\n",
       "      <td>0</td>\n",
       "      <td>12TH</td>\n",
       "      <td>16TH</td>\n",
       "      <td>1</td>\n",
       "      <td>4</td>\n",
       "      <td>1</td>\n",
       "      <td>2016</td>\n",
       "      <td>Friday</td>\n",
       "      <td>January</td>\n",
       "    </tr>\n",
       "    <tr>\n",
       "      <th>2</th>\n",
       "      <td>0</td>\n",
       "      <td>12TH</td>\n",
       "      <td>24TH</td>\n",
       "      <td>4</td>\n",
       "      <td>4</td>\n",
       "      <td>1</td>\n",
       "      <td>2016</td>\n",
       "      <td>Friday</td>\n",
       "      <td>January</td>\n",
       "    </tr>\n",
       "    <tr>\n",
       "      <th>3</th>\n",
       "      <td>0</td>\n",
       "      <td>12TH</td>\n",
       "      <td>ASHB</td>\n",
       "      <td>4</td>\n",
       "      <td>4</td>\n",
       "      <td>1</td>\n",
       "      <td>2016</td>\n",
       "      <td>Friday</td>\n",
       "      <td>January</td>\n",
       "    </tr>\n",
       "    <tr>\n",
       "      <th>4</th>\n",
       "      <td>0</td>\n",
       "      <td>12TH</td>\n",
       "      <td>BALB</td>\n",
       "      <td>2</td>\n",
       "      <td>4</td>\n",
       "      <td>1</td>\n",
       "      <td>2016</td>\n",
       "      <td>Friday</td>\n",
       "      <td>January</td>\n",
       "    </tr>\n",
       "  </tbody>\n",
       "</table>\n",
       "</div>"
      ],
      "text/plain": [
       "   Hour Origin Station Destination Station  Trip Count  Day  Month  Year  \\\n",
       "0     0           12TH                12TH           1    4      1  2016   \n",
       "1     0           12TH                16TH           1    4      1  2016   \n",
       "2     0           12TH                24TH           4    4      1  2016   \n",
       "3     0           12TH                ASHB           4    4      1  2016   \n",
       "4     0           12TH                BALB           2    4      1  2016   \n",
       "\n",
       "  WeekDay Month_Name  \n",
       "0  Friday    January  \n",
       "1  Friday    January  \n",
       "2  Friday    January  \n",
       "3  Friday    January  \n",
       "4  Friday    January  "
      ]
     },
     "execution_count": 53,
     "metadata": {},
     "output_type": "execute_result"
    }
   ],
   "source": [
    "df.head()"
   ]
  },
  {
   "cell_type": "code",
   "execution_count": 54,
   "id": "eaaea883-5e4d-46fd-b16c-471f306b16dd",
   "metadata": {},
   "outputs": [],
   "source": [
    "df = df.drop(columns=['WeekDay', 'Month_Name'])"
   ]
  },
  {
   "cell_type": "code",
   "execution_count": 55,
   "id": "008c7f28-9a28-4b8a-8a73-fd1cf1f7fe4c",
   "metadata": {},
   "outputs": [
    {
     "data": {
      "text/html": [
       "<div>\n",
       "<style scoped>\n",
       "    .dataframe tbody tr th:only-of-type {\n",
       "        vertical-align: middle;\n",
       "    }\n",
       "\n",
       "    .dataframe tbody tr th {\n",
       "        vertical-align: top;\n",
       "    }\n",
       "\n",
       "    .dataframe thead th {\n",
       "        text-align: right;\n",
       "    }\n",
       "</style>\n",
       "<table border=\"1\" class=\"dataframe\">\n",
       "  <thead>\n",
       "    <tr style=\"text-align: right;\">\n",
       "      <th></th>\n",
       "      <th>Hour</th>\n",
       "      <th>Origin Station</th>\n",
       "      <th>Destination Station</th>\n",
       "      <th>Trip Count</th>\n",
       "      <th>Day</th>\n",
       "      <th>Month</th>\n",
       "      <th>Year</th>\n",
       "    </tr>\n",
       "  </thead>\n",
       "  <tbody>\n",
       "    <tr>\n",
       "      <th>0</th>\n",
       "      <td>0</td>\n",
       "      <td>12TH</td>\n",
       "      <td>12TH</td>\n",
       "      <td>1</td>\n",
       "      <td>4</td>\n",
       "      <td>1</td>\n",
       "      <td>2016</td>\n",
       "    </tr>\n",
       "    <tr>\n",
       "      <th>1</th>\n",
       "      <td>0</td>\n",
       "      <td>12TH</td>\n",
       "      <td>16TH</td>\n",
       "      <td>1</td>\n",
       "      <td>4</td>\n",
       "      <td>1</td>\n",
       "      <td>2016</td>\n",
       "    </tr>\n",
       "    <tr>\n",
       "      <th>2</th>\n",
       "      <td>0</td>\n",
       "      <td>12TH</td>\n",
       "      <td>24TH</td>\n",
       "      <td>4</td>\n",
       "      <td>4</td>\n",
       "      <td>1</td>\n",
       "      <td>2016</td>\n",
       "    </tr>\n",
       "    <tr>\n",
       "      <th>3</th>\n",
       "      <td>0</td>\n",
       "      <td>12TH</td>\n",
       "      <td>ASHB</td>\n",
       "      <td>4</td>\n",
       "      <td>4</td>\n",
       "      <td>1</td>\n",
       "      <td>2016</td>\n",
       "    </tr>\n",
       "    <tr>\n",
       "      <th>4</th>\n",
       "      <td>0</td>\n",
       "      <td>12TH</td>\n",
       "      <td>BALB</td>\n",
       "      <td>2</td>\n",
       "      <td>4</td>\n",
       "      <td>1</td>\n",
       "      <td>2016</td>\n",
       "    </tr>\n",
       "  </tbody>\n",
       "</table>\n",
       "</div>"
      ],
      "text/plain": [
       "   Hour Origin Station Destination Station  Trip Count  Day  Month  Year\n",
       "0     0           12TH                12TH           1    4      1  2016\n",
       "1     0           12TH                16TH           1    4      1  2016\n",
       "2     0           12TH                24TH           4    4      1  2016\n",
       "3     0           12TH                ASHB           4    4      1  2016\n",
       "4     0           12TH                BALB           2    4      1  2016"
      ]
     },
     "execution_count": 55,
     "metadata": {},
     "output_type": "execute_result"
    }
   ],
   "source": [
    "df.head()"
   ]
  },
  {
   "cell_type": "code",
   "execution_count": 56,
   "id": "3c146931",
   "metadata": {},
   "outputs": [
    {
     "data": {
      "text/html": [
       "<div>\n",
       "<style scoped>\n",
       "    .dataframe tbody tr th:only-of-type {\n",
       "        vertical-align: middle;\n",
       "    }\n",
       "\n",
       "    .dataframe tbody tr th {\n",
       "        vertical-align: top;\n",
       "    }\n",
       "\n",
       "    .dataframe thead th {\n",
       "        text-align: right;\n",
       "    }\n",
       "</style>\n",
       "<table border=\"1\" class=\"dataframe\">\n",
       "  <thead>\n",
       "    <tr style=\"text-align: right;\">\n",
       "      <th></th>\n",
       "      <th>Hour</th>\n",
       "      <th>Origin Station</th>\n",
       "      <th>Destination Station</th>\n",
       "      <th>Trip Count</th>\n",
       "      <th>Day</th>\n",
       "      <th>Month</th>\n",
       "      <th>Year</th>\n",
       "    </tr>\n",
       "  </thead>\n",
       "  <tbody>\n",
       "    <tr>\n",
       "      <th>0</th>\n",
       "      <td>0</td>\n",
       "      <td>12TH</td>\n",
       "      <td>12TH</td>\n",
       "      <td>1</td>\n",
       "      <td>4</td>\n",
       "      <td>1</td>\n",
       "      <td>2016</td>\n",
       "    </tr>\n",
       "    <tr>\n",
       "      <th>1</th>\n",
       "      <td>0</td>\n",
       "      <td>12TH</td>\n",
       "      <td>16TH</td>\n",
       "      <td>1</td>\n",
       "      <td>4</td>\n",
       "      <td>1</td>\n",
       "      <td>2016</td>\n",
       "    </tr>\n",
       "    <tr>\n",
       "      <th>2</th>\n",
       "      <td>0</td>\n",
       "      <td>12TH</td>\n",
       "      <td>24TH</td>\n",
       "      <td>4</td>\n",
       "      <td>4</td>\n",
       "      <td>1</td>\n",
       "      <td>2016</td>\n",
       "    </tr>\n",
       "    <tr>\n",
       "      <th>3</th>\n",
       "      <td>0</td>\n",
       "      <td>12TH</td>\n",
       "      <td>ASHB</td>\n",
       "      <td>4</td>\n",
       "      <td>4</td>\n",
       "      <td>1</td>\n",
       "      <td>2016</td>\n",
       "    </tr>\n",
       "    <tr>\n",
       "      <th>4</th>\n",
       "      <td>0</td>\n",
       "      <td>12TH</td>\n",
       "      <td>BALB</td>\n",
       "      <td>2</td>\n",
       "      <td>4</td>\n",
       "      <td>1</td>\n",
       "      <td>2016</td>\n",
       "    </tr>\n",
       "  </tbody>\n",
       "</table>\n",
       "</div>"
      ],
      "text/plain": [
       "   Hour Origin Station Destination Station  Trip Count  Day  Month  Year\n",
       "0     0           12TH                12TH           1    4      1  2016\n",
       "1     0           12TH                16TH           1    4      1  2016\n",
       "2     0           12TH                24TH           4    4      1  2016\n",
       "3     0           12TH                ASHB           4    4      1  2016\n",
       "4     0           12TH                BALB           2    4      1  2016"
      ]
     },
     "execution_count": 56,
     "metadata": {},
     "output_type": "execute_result"
    }
   ],
   "source": [
    "df.head()"
   ]
  },
  {
   "cell_type": "code",
   "execution_count": 57,
   "id": "7ad4039a",
   "metadata": {},
   "outputs": [
    {
     "data": {
      "text/plain": [
       "Hour                   0\n",
       "Origin Station         0\n",
       "Destination Station    0\n",
       "Trip Count             0\n",
       "Day                    0\n",
       "Month                  0\n",
       "Year                   0\n",
       "dtype: int64"
      ]
     },
     "execution_count": 57,
     "metadata": {},
     "output_type": "execute_result"
    }
   ],
   "source": [
    "df.isnull().sum()"
   ]
  },
  {
   "cell_type": "code",
   "execution_count": 58,
   "id": "f1eaec83",
   "metadata": {},
   "outputs": [],
   "source": [
    "df3=pd.read_csv('station_names.csv')\n",
    "#istasyon isimleri dosyası"
   ]
  },
  {
   "cell_type": "code",
   "execution_count": 59,
   "id": "cbeb80be",
   "metadata": {
    "scrolled": true
   },
   "outputs": [
    {
     "data": {
      "text/html": [
       "<div>\n",
       "<style scoped>\n",
       "    .dataframe tbody tr th:only-of-type {\n",
       "        vertical-align: middle;\n",
       "    }\n",
       "\n",
       "    .dataframe tbody tr th {\n",
       "        vertical-align: top;\n",
       "    }\n",
       "\n",
       "    .dataframe thead th {\n",
       "        text-align: right;\n",
       "    }\n",
       "</style>\n",
       "<table border=\"1\" class=\"dataframe\">\n",
       "  <thead>\n",
       "    <tr style=\"text-align: right;\">\n",
       "      <th></th>\n",
       "      <th>Unnamed: 0</th>\n",
       "      <th>station_name_sort</th>\n",
       "      <th>Station Name</th>\n",
       "    </tr>\n",
       "  </thead>\n",
       "  <tbody>\n",
       "    <tr>\n",
       "      <th>0</th>\n",
       "      <td>0</td>\n",
       "      <td>RM</td>\n",
       "      <td>Richmond</td>\n",
       "    </tr>\n",
       "    <tr>\n",
       "      <th>1</th>\n",
       "      <td>1</td>\n",
       "      <td>EN</td>\n",
       "      <td>El Cerrito Del Norte</td>\n",
       "    </tr>\n",
       "    <tr>\n",
       "      <th>2</th>\n",
       "      <td>2</td>\n",
       "      <td>EP</td>\n",
       "      <td>El Cerrito Plaza</td>\n",
       "    </tr>\n",
       "    <tr>\n",
       "      <th>3</th>\n",
       "      <td>3</td>\n",
       "      <td>NB</td>\n",
       "      <td>North Berkeley</td>\n",
       "    </tr>\n",
       "    <tr>\n",
       "      <th>4</th>\n",
       "      <td>4</td>\n",
       "      <td>BK</td>\n",
       "      <td>Berkeley</td>\n",
       "    </tr>\n",
       "    <tr>\n",
       "      <th>5</th>\n",
       "      <td>5</td>\n",
       "      <td>AS</td>\n",
       "      <td>Ashby</td>\n",
       "    </tr>\n",
       "    <tr>\n",
       "      <th>6</th>\n",
       "      <td>6</td>\n",
       "      <td>MA</td>\n",
       "      <td>MacArthur</td>\n",
       "    </tr>\n",
       "    <tr>\n",
       "      <th>7</th>\n",
       "      <td>7</td>\n",
       "      <td>19</td>\n",
       "      <td>19th Street Oakland</td>\n",
       "    </tr>\n",
       "    <tr>\n",
       "      <th>8</th>\n",
       "      <td>8</td>\n",
       "      <td>12</td>\n",
       "      <td>12th Street / Oakland City Center</td>\n",
       "    </tr>\n",
       "    <tr>\n",
       "      <th>9</th>\n",
       "      <td>9</td>\n",
       "      <td>LM</td>\n",
       "      <td>Lake Merritt</td>\n",
       "    </tr>\n",
       "    <tr>\n",
       "      <th>10</th>\n",
       "      <td>10</td>\n",
       "      <td>FV</td>\n",
       "      <td>Fruitvale</td>\n",
       "    </tr>\n",
       "    <tr>\n",
       "      <th>11</th>\n",
       "      <td>11</td>\n",
       "      <td>CL</td>\n",
       "      <td>Coliseum</td>\n",
       "    </tr>\n",
       "    <tr>\n",
       "      <th>12</th>\n",
       "      <td>12</td>\n",
       "      <td>SL</td>\n",
       "      <td>San Leandro</td>\n",
       "    </tr>\n",
       "    <tr>\n",
       "      <th>13</th>\n",
       "      <td>13</td>\n",
       "      <td>BF</td>\n",
       "      <td>Bayfair</td>\n",
       "    </tr>\n",
       "    <tr>\n",
       "      <th>14</th>\n",
       "      <td>14</td>\n",
       "      <td>HY</td>\n",
       "      <td>Hayward</td>\n",
       "    </tr>\n",
       "    <tr>\n",
       "      <th>15</th>\n",
       "      <td>15</td>\n",
       "      <td>SH</td>\n",
       "      <td>South Hayward</td>\n",
       "    </tr>\n",
       "    <tr>\n",
       "      <th>16</th>\n",
       "      <td>16</td>\n",
       "      <td>UC</td>\n",
       "      <td>Union City</td>\n",
       "    </tr>\n",
       "    <tr>\n",
       "      <th>17</th>\n",
       "      <td>17</td>\n",
       "      <td>FM</td>\n",
       "      <td>Fremont</td>\n",
       "    </tr>\n",
       "    <tr>\n",
       "      <th>18</th>\n",
       "      <td>18</td>\n",
       "      <td>CN</td>\n",
       "      <td>Concord</td>\n",
       "    </tr>\n",
       "    <tr>\n",
       "      <th>19</th>\n",
       "      <td>19</td>\n",
       "      <td>PH</td>\n",
       "      <td>Pleasant Hill</td>\n",
       "    </tr>\n",
       "    <tr>\n",
       "      <th>20</th>\n",
       "      <td>20</td>\n",
       "      <td>WC</td>\n",
       "      <td>Walnut Creek</td>\n",
       "    </tr>\n",
       "    <tr>\n",
       "      <th>21</th>\n",
       "      <td>21</td>\n",
       "      <td>LF</td>\n",
       "      <td>Lafayette</td>\n",
       "    </tr>\n",
       "    <tr>\n",
       "      <th>22</th>\n",
       "      <td>22</td>\n",
       "      <td>OR</td>\n",
       "      <td>Orinda</td>\n",
       "    </tr>\n",
       "    <tr>\n",
       "      <th>23</th>\n",
       "      <td>23</td>\n",
       "      <td>RR</td>\n",
       "      <td>Rockridge</td>\n",
       "    </tr>\n",
       "    <tr>\n",
       "      <th>24</th>\n",
       "      <td>24</td>\n",
       "      <td>OW</td>\n",
       "      <td>West Oakland</td>\n",
       "    </tr>\n",
       "    <tr>\n",
       "      <th>25</th>\n",
       "      <td>25</td>\n",
       "      <td>EM</td>\n",
       "      <td>Embarcadero</td>\n",
       "    </tr>\n",
       "    <tr>\n",
       "      <th>26</th>\n",
       "      <td>26</td>\n",
       "      <td>MT</td>\n",
       "      <td>Montgomery Street</td>\n",
       "    </tr>\n",
       "    <tr>\n",
       "      <th>27</th>\n",
       "      <td>27</td>\n",
       "      <td>PL</td>\n",
       "      <td>Powell Street</td>\n",
       "    </tr>\n",
       "    <tr>\n",
       "      <th>28</th>\n",
       "      <td>28</td>\n",
       "      <td>CC</td>\n",
       "      <td>Civic Center</td>\n",
       "    </tr>\n",
       "    <tr>\n",
       "      <th>29</th>\n",
       "      <td>29</td>\n",
       "      <td>16</td>\n",
       "      <td>16th Street Mission</td>\n",
       "    </tr>\n",
       "    <tr>\n",
       "      <th>30</th>\n",
       "      <td>30</td>\n",
       "      <td>24</td>\n",
       "      <td>24th Street Mission</td>\n",
       "    </tr>\n",
       "    <tr>\n",
       "      <th>31</th>\n",
       "      <td>31</td>\n",
       "      <td>GP</td>\n",
       "      <td>Glen Park</td>\n",
       "    </tr>\n",
       "    <tr>\n",
       "      <th>32</th>\n",
       "      <td>32</td>\n",
       "      <td>BP</td>\n",
       "      <td>Balboa Park</td>\n",
       "    </tr>\n",
       "    <tr>\n",
       "      <th>33</th>\n",
       "      <td>33</td>\n",
       "      <td>DC</td>\n",
       "      <td>Daly City</td>\n",
       "    </tr>\n",
       "    <tr>\n",
       "      <th>34</th>\n",
       "      <td>34</td>\n",
       "      <td>CM</td>\n",
       "      <td>Colma</td>\n",
       "    </tr>\n",
       "    <tr>\n",
       "      <th>35</th>\n",
       "      <td>35</td>\n",
       "      <td>CV</td>\n",
       "      <td>Castro Valley</td>\n",
       "    </tr>\n",
       "    <tr>\n",
       "      <th>36</th>\n",
       "      <td>36</td>\n",
       "      <td>ED</td>\n",
       "      <td>Dublin/Pleasanton</td>\n",
       "    </tr>\n",
       "    <tr>\n",
       "      <th>37</th>\n",
       "      <td>37</td>\n",
       "      <td>NC</td>\n",
       "      <td>North Concord</td>\n",
       "    </tr>\n",
       "    <tr>\n",
       "      <th>38</th>\n",
       "      <td>38</td>\n",
       "      <td>WP</td>\n",
       "      <td>Pittsburg/Bay Point</td>\n",
       "    </tr>\n",
       "    <tr>\n",
       "      <th>39</th>\n",
       "      <td>39</td>\n",
       "      <td>SS</td>\n",
       "      <td>South San Francisco</td>\n",
       "    </tr>\n",
       "    <tr>\n",
       "      <th>40</th>\n",
       "      <td>40</td>\n",
       "      <td>SB</td>\n",
       "      <td>San Bruno</td>\n",
       "    </tr>\n",
       "    <tr>\n",
       "      <th>41</th>\n",
       "      <td>41</td>\n",
       "      <td>SO</td>\n",
       "      <td>San Francisco International Airport</td>\n",
       "    </tr>\n",
       "    <tr>\n",
       "      <th>42</th>\n",
       "      <td>42</td>\n",
       "      <td>MB</td>\n",
       "      <td>Millbrae</td>\n",
       "    </tr>\n",
       "    <tr>\n",
       "      <th>43</th>\n",
       "      <td>43</td>\n",
       "      <td>WD</td>\n",
       "      <td>West Dublin/Pleasanton</td>\n",
       "    </tr>\n",
       "    <tr>\n",
       "      <th>44</th>\n",
       "      <td>44</td>\n",
       "      <td>OA</td>\n",
       "      <td>Oakland International Airport</td>\n",
       "    </tr>\n",
       "    <tr>\n",
       "      <th>45</th>\n",
       "      <td>45</td>\n",
       "      <td>WS</td>\n",
       "      <td>Warm Springs</td>\n",
       "    </tr>\n",
       "  </tbody>\n",
       "</table>\n",
       "</div>"
      ],
      "text/plain": [
       "    Unnamed: 0 station_name_sort                         Station Name\n",
       "0            0                RM                             Richmond\n",
       "1            1                EN                 El Cerrito Del Norte\n",
       "2            2                EP                     El Cerrito Plaza\n",
       "3            3                NB                       North Berkeley\n",
       "4            4                BK                             Berkeley\n",
       "5            5                AS                                Ashby\n",
       "6            6                MA                            MacArthur\n",
       "7            7                19                  19th Street Oakland\n",
       "8            8                12    12th Street / Oakland City Center\n",
       "9            9                LM                         Lake Merritt\n",
       "10          10                FV                            Fruitvale\n",
       "11          11                CL                             Coliseum\n",
       "12          12                SL                          San Leandro\n",
       "13          13                BF                              Bayfair\n",
       "14          14                HY                              Hayward\n",
       "15          15                SH                        South Hayward\n",
       "16          16                UC                           Union City\n",
       "17          17                FM                              Fremont\n",
       "18          18                CN                              Concord\n",
       "19          19                PH                        Pleasant Hill\n",
       "20          20                WC                         Walnut Creek\n",
       "21          21                LF                            Lafayette\n",
       "22          22                OR                               Orinda\n",
       "23          23                RR                            Rockridge\n",
       "24          24                OW                         West Oakland\n",
       "25          25                EM                          Embarcadero\n",
       "26          26                MT                    Montgomery Street\n",
       "27          27                PL                        Powell Street\n",
       "28          28                CC                         Civic Center\n",
       "29          29                16                  16th Street Mission\n",
       "30          30                24                  24th Street Mission\n",
       "31          31                GP                            Glen Park\n",
       "32          32                BP                          Balboa Park\n",
       "33          33                DC                            Daly City\n",
       "34          34                CM                                Colma\n",
       "35          35                CV                        Castro Valley\n",
       "36          36                ED                    Dublin/Pleasanton\n",
       "37          37                NC                        North Concord\n",
       "38          38                WP                  Pittsburg/Bay Point\n",
       "39          39                SS                  South San Francisco\n",
       "40          40                SB                            San Bruno\n",
       "41          41                SO  San Francisco International Airport\n",
       "42          42                MB                             Millbrae\n",
       "43          43                WD               West Dublin/Pleasanton\n",
       "44          44                OA        Oakland International Airport\n",
       "45          45                WS                         Warm Springs"
      ]
     },
     "execution_count": 59,
     "metadata": {},
     "output_type": "execute_result"
    }
   ],
   "source": [
    "df3.head(46)"
   ]
  },
  {
   "cell_type": "markdown",
   "id": "9b172d94-2d4c-4e59-b21a-69fc38a948fa",
   "metadata": {},
   "source": [
    "## <span style=\"color: purple;\">DATA VISUALIZATION</span>"
   ]
  },
  {
   "cell_type": "markdown",
   "id": "42791f5c",
   "metadata": {},
   "source": [
    "1. Which BART station is the busiest?"
   ]
  },
  {
   "cell_type": "markdown",
   "id": "d957c6ae-e7bb-42a0-9d89-8ea745314c34",
   "metadata": {},
   "source": [
    " **Powel Street**  ,  **Embarcadero** ,  **Montgomery Street**    , **Civic Center**"
   ]
  },
  {
   "cell_type": "code",
   "execution_count": 62,
   "id": "237886fe-6551-4f11-94ef-b0c2cdf8e48d",
   "metadata": {},
   "outputs": [
    {
     "data": {
      "image/png": "[encoded data removed]",
      "text/plain": [
       "<Figure size 1700x700 with 1 Axes>"
      ]
     },
     "metadata": {},
     "output_type": "display_data"
    }
   ],
   "source": [
    "plt.figure(figsize=(17, 7))\n",
    "sns.countplot(x=df['Origin Station'], palette='viridis')  \n",
    "plt.xticks(rotation=90)\n",
    "plt.title('İstasyon Dağılımı')\n",
    "plt.show()"
   ]
  },
  {
   "cell_type": "markdown",
   "id": "5ff1b16d-642e-4cd7-9452-2532ff93f19f",
   "metadata": {},
   "source": [
    "2. What is the **least popular** BART route?         **\"Oakland International Airport\"**"
   ]
  },
  {
   "cell_type": "code",
   "execution_count": 63,
   "id": "e8995e25",
   "metadata": {},
   "outputs": [
    {
     "data": {
      "image/png": "[encoded data removed]",
      "text/plain": [
       "<Figure size 1700x700 with 1 Axes>"
      ]
     },
     "metadata": {},
     "output_type": "display_data"
    }
   ],
   "source": [
    "plt.figure(figsize=(17,7))\n",
    "plt.xticks(rotation=90);\n",
    "sns.barplot(x=df['Origin Station'],y=df['Trip Count']);"
   ]
  },
  {
   "cell_type": "markdown",
   "id": "da4fca33-971d-425a-b8be-9568c3911f55",
   "metadata": {},
   "source": [
    "3. Which hour is **busiest**?  5-6 pm"
   ]
  },
  {
   "cell_type": "code",
   "execution_count": 65,
   "id": "691275df-9314-422b-80b5-20e5e13282d9",
   "metadata": {},
   "outputs": [
    {
     "data": {
      "image/png": "[encoded data removed]",
      "text/plain": [
       "<Figure size 1700x700 with 1 Axes>"
      ]
     },
     "metadata": {},
     "output_type": "display_data"
    }
   ],
   "source": [
    "plt.figure(figsize=(17, 7))\n",
    "sns.countplot(x=df['Hour'], palette='viridis') \n",
    "plt.xticks(rotation=90)\n",
    "plt.title('Hours')\n",
    "plt.show()"
   ]
  },
  {
   "cell_type": "markdown",
   "id": "fe05a260-d8b8-46a1-a80a-78ee3dc707b2",
   "metadata": {},
   "source": [
    "4. Busiest hour **accordingto \"Trip count\"**  "
   ]
  },
  {
   "cell_type": "code",
   "execution_count": 111,
   "id": "d7356763",
   "metadata": {},
   "outputs": [
    {
     "data": {
      "image/png": "[encoded data removed]",
      "text/plain": [
       "<Figure size 1000x700 with 1 Axes>"
      ]
     },
     "metadata": {},
     "output_type": "display_data"
    }
   ],
   "source": [
    "plt.figure(figsize=(10,7))\n",
    "plt.xticks(rotation=90);\n",
    "sns.barplot(x=df['Hour'],y=df['Trip Count']);\n",
    "#trip counta göre en yoğun saat sabah 9"
   ]
  },
  {
   "cell_type": "markdown",
   "id": "4c32a9c4-c908-487c-8dd0-5be344a39358",
   "metadata": {},
   "source": [
    " **busiest day**"
   ]
  },
  {
   "cell_type": "code",
   "execution_count": 109,
   "id": "30768f17",
   "metadata": {},
   "outputs": [
    {
     "data": {
      "image/png": "[encoded data removed]",
      "text/plain": [
       "<Figure size 1000x700 with 1 Axes>"
      ]
     },
     "metadata": {},
     "output_type": "display_data"
    }
   ],
   "source": [
    "plt.figure(figsize=(10,7))\n",
    "plt.xticks(rotation=90);\n",
    "sns.barplot(x=df['Day'],y=df['Trip Count']);\n",
    "#haftanın en yoğun günü çarşamba günü, en sakin pazar"
   ]
  },
  {
   "cell_type": "markdown",
   "id": "c1c01681-cadc-49db-a3ed-69351632f074",
   "metadata": {},
   "source": [
    "3. When is the best time to go from **Berkeley** to **San Francisco** if you want to find a seat?\n",
    "* Bunun için önce POWL'dan DBRKK istasyonuna giden seferleri filtreleyelim.\n",
    "* Her saat bu rotada kaç yolcu olduğunu bulalım.\n",
    "* Koltukta gitmenin mümkün olduğu saati belirlersek sadece gece çıkıyor, her saat için yolcu sayısına bakalım daha iyi, bu sunuca göre 1,2,3, gibi uygun saatler.\n",
    " * Grafikle de görelim"
   ]
  },
  {
   "cell_type": "code",
   "execution_count": 83,
   "id": "8f09127c-1665-4084-b0c6-8257f581362a",
   "metadata": {},
   "outputs": [],
   "source": [
    "berkeley_stations = ['DBRK']  # dbrk den powl a giden seferleri seçelim\n",
    "sf_stations = ['POWL']"
   ]
  },
  {
   "cell_type": "code",
   "execution_count": 84,
   "id": "8dedbe4d-c928-40a5-a07f-c58e81c3156d",
   "metadata": {},
   "outputs": [],
   "source": [
    "filtered_df = df[(df['Origin Station'].isin(berkeley_stations)) &   # filtreleyelim\n",
    "                 (df['Destination Station'].isin(sf_stations))]"
   ]
  },
  {
   "cell_type": "code",
   "execution_count": 85,
   "id": "533ecd33-91f5-4b43-a222-ca0f0aeabb7b",
   "metadata": {},
   "outputs": [],
   "source": [
    "hourly_counts = filtered_df.groupby('Hour')['Trip Count'].sum().reset_index() # her saat için toplam yolcu sayısını hesaplayalım"
   ]
  },
  {
   "cell_type": "code",
   "execution_count": 86,
   "id": "9242d671-94ad-44b2-8cf1-c24eb7030fb2",
   "metadata": {},
   "outputs": [],
   "source": [
    "least_crowded_hour = hourly_counts[hourly_counts['Trip Count'] == hourly_counts['Trip Count'].min()]  # en az yolcu olan saatleri bulalım"
   ]
  },
  {
   "cell_type": "code",
   "execution_count": 87,
   "id": "850ad51f-25c9-4f49-b1fa-a8089eaed58e",
   "metadata": {},
   "outputs": [],
   "source": [
    "hourly_counts = filtered_df.groupby('Hour')['Trip Count'].sum().reset_index() # her saat için yolcu sayısı"
   ]
  },
  {
   "cell_type": "code",
   "execution_count": 88,
   "id": "2a5b2eb5-2792-488c-9764-98ac93273902",
   "metadata": {
    "scrolled": true
   },
   "outputs": [
    {
     "name": "stdout",
     "output_type": "stream",
     "text": [
      "best times to go to SF from Berkeley if you want to find a seat:\n",
      "    Hour  Trip Count\n",
      "0      0        5203\n",
      "1      1         979\n",
      "2      2          18\n",
      "3      3           3\n",
      "4      4         123\n",
      "5      5        1517\n",
      "6      6        5408\n",
      "7      7       12787\n",
      "8      8       33466\n",
      "9      9       43183\n",
      "10    10       35884\n",
      "11    11       35577\n",
      "12    12       37055\n",
      "13    13       38980\n",
      "14    14       38929\n",
      "15    15       38333\n",
      "16    16       38912\n",
      "17    17       49303\n",
      "18    18       44504\n",
      "19    19       30417\n",
      "20    20       17556\n",
      "21    21       15263\n",
      "22    22       13982\n",
      "23    23       11608\n"
     ]
    }
   ],
   "source": [
    "print(\"best times to go to SF from Berkeley if you want to find a seat:\")\n",
    "print(hourly_counts)"
   ]
  },
  {
   "cell_type": "code",
   "execution_count": 96,
   "id": "683d0f1a-2ede-4138-8502-fcfefe45afae",
   "metadata": {},
   "outputs": [
    {
     "data": {
      "image/png": "[encoded data removed]",
      "text/plain": [
       "<Figure size 1200x600 with 1 Axes>"
      ]
     },
     "metadata": {},
     "output_type": "display_data"
    }
   ],
   "source": [
    "plt.figure(figsize=(12, 6))\n",
    "sns.barplot(x='Hour', y='Trip Count', data=df_hourly, palette='viridis')\n",
    "plt.title('Günün Saatlerine Göre DBRK den POWL a Yolcu Sayısı (Trip Count)')\n",
    "plt.xlabel('Saat')\n",
    "plt.ylabel('Yolcu Sayısı (Trip Count)')\n",
    "plt.xticks(rotation=90)\n",
    "plt.grid(axis='y')\n",
    "plt.show()"
   ]
  },
  {
   "cell_type": "markdown",
   "id": "e0a73001-d4f1-44ff-9ab9-e5f49b56773f",
   "metadata": {},
   "source": [
    " ## <span style=\"color: purple;\">BART'ı gece saat 22:00 - 06:00 arası kaç kişi kullanıyor?</span>"
   ]
  },
  {
   "cell_type": "code",
   "execution_count": 97,
   "id": "31e24750-f293-4bd7-b15c-55003456f00b",
   "metadata": {},
   "outputs": [
    {
     "name": "stdout",
     "output_type": "stream",
     "text": [
      "16055441\n"
     ]
    }
   ],
   "source": [
    "filtered_df = df[(df['Hour'] >= 22) | (df['Hour'] < 6)]  # akşam 10 dan sonraki veya 6 dan önceki diye seçtik\n",
    "toplam_trip_count = filtered_df['Trip Count'].sum()  # tüm o değerleri topla\n",
    "print(toplam_trip_count)"
   ]
  },
  {
   "cell_type": "markdown",
   "id": "325ffd78-f099-460c-bb94-0fad821d8e45",
   "metadata": {},
   "source": [
    "* **16055441** yolcu olduğunu söylüyor bu aralıkta, bu ciddi bir rakam, demek gece de yoğun bir yolcu trafiği var."
   ]
  },
  {
   "cell_type": "markdown",
   "id": "d33b6edd-2ff9-45d7-854f-26df2786b032",
   "metadata": {},
   "source": [
    "## <span style=\"color: pink;\">DBRK ve POWL istasyonları arasındaki mesafe</span>"
   ]
  },
  {
   "cell_type": "markdown",
   "id": "d1ec794c-35f7-4bb1-8e2a-4c797382e396",
   "metadata": {},
   "source": [
    "* Bunun için önceden yüklediğim df4 coordinate csv dosyamı okudum, gerekli kütüphane olan iki kınum arasındaki mesafeyi ölçen **spatial** import ettim ve iki istasyon arasındaki **euclidian** mesafeyi hesapladım. **505.07** birim çıktı."
   ]
  },
  {
   "cell_type": "code",
   "execution_count": 99,
   "id": "b1668650",
   "metadata": {},
   "outputs": [],
   "source": [
    "df4.drop([\"Unnamed: 0\"],axis=1,inplace=True)"
   ]
  },
  {
   "cell_type": "code",
   "execution_count": 100,
   "id": "af419280",
   "metadata": {},
   "outputs": [
    {
     "data": {
      "text/html": [
       "<div>\n",
       "<style scoped>\n",
       "    .dataframe tbody tr th:only-of-type {\n",
       "        vertical-align: middle;\n",
       "    }\n",
       "\n",
       "    .dataframe tbody tr th {\n",
       "        vertical-align: top;\n",
       "    }\n",
       "\n",
       "    .dataframe thead th {\n",
       "        text-align: right;\n",
       "    }\n",
       "</style>\n",
       "<table border=\"1\" class=\"dataframe\">\n",
       "  <thead>\n",
       "    <tr style=\"text-align: right;\">\n",
       "      <th></th>\n",
       "      <th>station_name</th>\n",
       "      <th>latitute</th>\n",
       "      <th>longitude</th>\n",
       "    </tr>\n",
       "  </thead>\n",
       "  <tbody>\n",
       "    <tr>\n",
       "      <th>0</th>\n",
       "      <td>12TH</td>\n",
       "      <td>798</td>\n",
       "      <td>702</td>\n",
       "    </tr>\n",
       "    <tr>\n",
       "      <th>1</th>\n",
       "      <td>19TH</td>\n",
       "      <td>798</td>\n",
       "      <td>655</td>\n",
       "    </tr>\n",
       "    <tr>\n",
       "      <th>2</th>\n",
       "      <td>MCAR</td>\n",
       "      <td>802</td>\n",
       "      <td>607</td>\n",
       "    </tr>\n",
       "    <tr>\n",
       "      <th>3</th>\n",
       "      <td>16TH</td>\n",
       "      <td>375</td>\n",
       "      <td>948</td>\n",
       "    </tr>\n",
       "    <tr>\n",
       "      <th>4</th>\n",
       "      <td>CIVC</td>\n",
       "      <td>397</td>\n",
       "      <td>915</td>\n",
       "    </tr>\n",
       "  </tbody>\n",
       "</table>\n",
       "</div>"
      ],
      "text/plain": [
       "  station_name  latitute  longitude\n",
       "0         12TH       798        702\n",
       "1         19TH       798        655\n",
       "2         MCAR       802        607\n",
       "3         16TH       375        948\n",
       "4         CIVC       397        915"
      ]
     },
     "execution_count": 100,
     "metadata": {},
     "output_type": "execute_result"
    }
   ],
   "source": [
    "df4.head()"
   ]
  },
  {
   "cell_type": "code",
   "execution_count": 103,
   "id": "9f05de96-5e27-4999-86a1-f4203f200cab",
   "metadata": {},
   "outputs": [],
   "source": [
    "import pandas as pd\n",
    "from scipy.spatial import distance  # iki konum arsındaki mesafeyi ölçme paketi"
   ]
  },
  {
   "cell_type": "code",
   "execution_count": 104,
   "id": "0a616fcd-cf56-4e3e-ad90-641ef933d2d8",
   "metadata": {},
   "outputs": [
    {
     "name": "stdout",
     "output_type": "stream",
     "text": [
      "DBRK ve POWL arasındaki mesafe: 505.07 birim\n"
     ]
    }
   ],
   "source": [
    "dbk_coords = df4.loc[df4['station_name'] == 'DBRK', ['latitute', 'longitude']].values[0] # DBRK ve POWL koordinatlarını alma\n",
    "pwl_coords = df4.loc[df4['station_name'] == 'POWL', ['latitute', 'longitude']].values[0]\n",
    "\n",
    "def compute_distance(a, b):   # Mesafeyi hesapla ve koordinatları birleştir \n",
    "    coords_a = [a[0], a[1]]  # Enlem ve boylam\n",
    "    coords_b = [b[0], b[1]]  # Enlem ve boylam\n",
    "    return distance.euclidean(coords_a, coords_b) \n",
    "distance_value = compute_distance(dbk_coords, pwl_coords)  # Mesafeyi hesapla\n",
    "print(f\"DBRK ve POWL arasındaki mesafe: {distance_value:.2f} birim\")"
   ]
  },
  {
   "cell_type": "raw",
   "id": "c867b6d1",
   "metadata": {},
   "source": [
    "Herhangi 2 istasyon arasında gidip gelen insan sayısını tahmin etmek için regression modeli yaparız."
   ]
  },
  {
   "cell_type": "markdown",
   "id": "6986cd7b-623a-4465-addf-cd59f68541c0",
   "metadata": {},
   "source": [
    "## <span style=\"color: purple;\">Herhangi 2 istasyon arasında gidip gelen insan sayısını tahmin etmek için regression modeli</span>"
   ]
  },
  {
   "cell_type": "markdown",
   "id": "2888829d-493f-447f-b17d-43553530aee4",
   "metadata": {},
   "source": [
    "* Önce bu 2 sutunu rakama çevirdim"
   ]
  },
  {
   "cell_type": "code",
   "execution_count": 143,
   "id": "476c98b9-8efb-4aab-9e4c-b103e40a3281",
   "metadata": {},
   "outputs": [],
   "source": [
    "station_mapping = {\n",
    "    'POWL': '1', 'EMBR': '2', 'CIVC': '3', 'MONT': '4',\n",
    "    '16TH': '5', 'DBRK': '6', '12TH': '7', '24TH': '8',\n",
    "    '19TH': '9', 'SFIA': '10', 'MCAR': '11', 'FTVL': '12',\n",
    "    'DALY': '13', 'COLS': '14', 'BALB': '15', 'DELN': '16',\n",
    "    'LAKE': '17', 'FRMT': '18', 'GLEN': '19', 'SANL': '20',\n",
    "    'PITT': '21', 'BAYF': '22', 'ASHB': '23', 'CONC': '24',\n",
    "    'HAYW': '25', 'WCRK': '26', 'WOAK': '27', 'RICH': '28',\n",
    "    'DUBL': '29', 'ROCK': '30', 'NBRK': '31', 'PLZA': '32',\n",
    "    'PHIL': '33', 'MLBR': '34', 'UCTY': '35', 'SBRN': '36',\n",
    "    'SHAY': '37', 'OAKL': '38', 'COLM': '39', 'WDUB': '40',\n",
    "    'SSAN': '41', 'LAFY': '42', 'CAST': '43', 'ORIN': '44',\n",
    "    'NCON': '45', 'WARM': '46'\n",
    "}\n",
    "df['Origin Station'] = df['Origin Station'].replace(station_mapping)"
   ]
  },
  {
   "cell_type": "code",
   "execution_count": 144,
   "id": "da33d062-1ba9-4876-95e4-83896d3cde5e",
   "metadata": {},
   "outputs": [],
   "source": [
    "destination_mapping = {\n",
    "    'POWL': '1', 'EMBR': '2', 'CIVC': '3', 'MONT': '4',\n",
    "    '16TH': '5', 'DBRK': '6', '12TH': '7', '24TH': '8',\n",
    "    '19TH': '9', 'SFIA': '10', 'MCAR': '11', 'FTVL': '12',\n",
    "    'DALY': '13', 'COLS': '14', 'BALB': '15', 'DELN': '16',\n",
    "    'LAKE': '17', 'FRMT': '18', 'GLEN': '19', 'SANL': '20',\n",
    "    'PITT': '21', 'BAYF': '22', 'ASHB': '23', 'CONC': '24',\n",
    "    'HAYW': '25', 'WCRK': '26', 'WOAK': '27', 'RICH': '28',\n",
    "    'DUBL': '29', 'ROCK': '30', 'NBRK': '31', 'PLZA': '32',\n",
    "    'PHIL': '33', 'MLBR': '34', 'UCTY': '35', 'SBRN': '36',\n",
    "    'SHAY': '37', 'OAKL': '38', 'COLM': '39', 'WDUB': '40',\n",
    "    'SSAN': '41', 'LAFY': '42', 'CAST': '43', 'ORIN': '44',\n",
    "    'NCON': '45', 'WARM': '46'\n",
    "}\n",
    "\n",
    "df['Destination Station'] = df['Destination Station'].replace(destination_mapping)"
   ]
  },
  {
   "cell_type": "code",
   "execution_count": 145,
   "id": "27c73768-8af5-4618-b6a9-5973e338e3eb",
   "metadata": {},
   "outputs": [],
   "source": [
    "df['Origin Station'] = df['Origin Station'].astype(int)\n",
    "df['Destination Station'] = df['Destination Station'].astype(int)"
   ]
  },
  {
   "cell_type": "markdown",
   "id": "1044f787-980e-4e97-b426-2d4dea8a456a",
   "metadata": {},
   "source": [
    "* **x** ve **y** belirledim."
   ]
  },
  {
   "cell_type": "code",
   "execution_count": 146,
   "id": "65b8fe9c",
   "metadata": {},
   "outputs": [],
   "source": [
    "x=df[['Origin Station','Destination Station','Hour','Day',\n",
    "       'Month', 'Year']]\n",
    "y=df[['Trip Count']]"
   ]
  },
  {
   "cell_type": "code",
   "execution_count": 147,
   "id": "346261a2",
   "metadata": {},
   "outputs": [],
   "source": [
    "x_train,x_test,y_train,y_test=train_test_split(x,y,test_size=0.20,random_state=42)"
   ]
  },
  {
   "cell_type": "markdown",
   "id": "1fb18b35-1f83-48d7-9be5-2a7e66f8b279",
   "metadata": {},
   "source": [
    "### model 1"
   ]
  },
  {
   "cell_type": "code",
   "execution_count": 148,
   "id": "ea0aae41-7a64-4afa-b3af-a6521efced24",
   "metadata": {},
   "outputs": [],
   "source": [
    "from sklearn.tree import DecisionTreeRegressor"
   ]
  },
  {
   "cell_type": "code",
   "execution_count": 149,
   "id": "cace0527",
   "metadata": {},
   "outputs": [],
   "source": [
    "dt=DecisionTreeRegressor()"
   ]
  },
  {
   "cell_type": "code",
   "execution_count": 150,
   "id": "ae54caf7",
   "metadata": {},
   "outputs": [],
   "source": [
    "model1=dt.fit(x_train, y_train)"
   ]
  },
  {
   "cell_type": "code",
   "execution_count": 151,
   "id": "c2ce0f62",
   "metadata": {},
   "outputs": [],
   "source": [
    "tahmin1=model1.predict(x_test)"
   ]
  },
  {
   "cell_type": "code",
   "execution_count": 152,
   "id": "e56cf2f8",
   "metadata": {},
   "outputs": [
    {
     "data": {
      "text/plain": [
       "0.8755535536713739"
      ]
     },
     "execution_count": 152,
     "metadata": {},
     "output_type": "execute_result"
    }
   ],
   "source": [
    "r2_score(tahmin1,y_test)"
   ]
  },
  {
   "cell_type": "code",
   "execution_count": 74,
   "id": "70134656",
   "metadata": {},
   "outputs": [
    {
     "data": {
      "text/plain": [
       "11.420485675427452"
      ]
     },
     "execution_count": 74,
     "metadata": {},
     "output_type": "execute_result"
    }
   ],
   "source": [
    "mean_squared_error(tahmin1,y_test)**.5"
   ]
  },
  {
   "cell_type": "markdown",
   "id": "73c255f9-5146-4471-a51e-97447a99fced",
   "metadata": {},
   "source": [
    "### Model 2"
   ]
  },
  {
   "cell_type": "code",
   "execution_count": 162,
   "id": "22348ec9-c1e9-4c2a-8450-bf338d3aaf68",
   "metadata": {},
   "outputs": [],
   "source": [
    "et=ExtraTreeRegressor()"
   ]
  },
  {
   "cell_type": "code",
   "execution_count": 163,
   "id": "8636b5ff-dacc-4d05-b608-43afa73f71a9",
   "metadata": {},
   "outputs": [],
   "source": [
    "model2=et.fit(x_train, y_train)"
   ]
  },
  {
   "cell_type": "code",
   "execution_count": 164,
   "id": "d905774a-2b76-49e3-9ff5-5a144e401b3f",
   "metadata": {},
   "outputs": [],
   "source": [
    "tahmin2=model2.predict(x_test)"
   ]
  },
  {
   "cell_type": "code",
   "execution_count": 165,
   "id": "f899d0f4-697b-48e5-8c51-721a7c6894c8",
   "metadata": {},
   "outputs": [
    {
     "data": {
      "text/plain": [
       "0.8754334715291321"
      ]
     },
     "execution_count": 165,
     "metadata": {},
     "output_type": "execute_result"
    }
   ],
   "source": [
    "r2_score(tahmin2,y_test)"
   ]
  },
  {
   "cell_type": "code",
   "execution_count": 166,
   "id": "7076fee3-59b7-46c1-a332-1bc3b5b8dc37",
   "metadata": {},
   "outputs": [
    {
     "data": {
      "text/plain": [
       "11.427533769015156"
      ]
     },
     "execution_count": 166,
     "metadata": {},
     "output_type": "execute_result"
    }
   ],
   "source": [
    "mean_squared_error(tahmin2,y_test)**.5"
   ]
  },
  {
   "cell_type": "markdown",
   "id": "bd00d721-e0fc-413e-9053-1b30048cdcdc",
   "metadata": {},
   "source": [
    "### Model 3 "
   ]
  },
  {
   "cell_type": "code",
   "execution_count": 167,
   "id": "570c28a2-2c22-43bc-8037-dbf833a10886",
   "metadata": {},
   "outputs": [],
   "source": [
    "xgb=XGBRegressor()"
   ]
  },
  {
   "cell_type": "code",
   "execution_count": 168,
   "id": "775f2500-85ba-4d6f-aac3-c848161c6418",
   "metadata": {},
   "outputs": [],
   "source": [
    "model3=et.fit(x_train, y_train)"
   ]
  },
  {
   "cell_type": "code",
   "execution_count": 169,
   "id": "924ce852-8688-4f19-887f-65a0b401c7c3",
   "metadata": {},
   "outputs": [],
   "source": [
    "tahmin3=model3.predict(x_test)"
   ]
  },
  {
   "cell_type": "code",
   "execution_count": 170,
   "id": "3447f48d-5ff2-4261-9b8b-10e81adb9fcd",
   "metadata": {},
   "outputs": [
    {
     "data": {
      "text/plain": [
       "0.8753960890444845"
      ]
     },
     "execution_count": 170,
     "metadata": {},
     "output_type": "execute_result"
    }
   ],
   "source": [
    "r2_score(tahmin3,y_test)"
   ]
  },
  {
   "cell_type": "code",
   "execution_count": 171,
   "id": "0e010be1-fed7-4ad1-9320-d6aa0af80d55",
   "metadata": {
    "scrolled": true
   },
   "outputs": [
    {
     "data": {
      "text/plain": [
       "11.42871139690629"
      ]
     },
     "execution_count": 171,
     "metadata": {},
     "output_type": "execute_result"
    }
   ],
   "source": [
    "mean_squared_error(tahmin3,y_test)**.5"
   ]
  },
  {
   "cell_type": "markdown",
   "id": "0229bb39-1a81-4830-b020-98a323ce6be0",
   "metadata": {},
   "source": [
    "### Model 4"
   ]
  },
  {
   "cell_type": "code",
   "execution_count": 172,
   "id": "0b6c99d5-7700-47f9-8e4a-55bc21f228c6",
   "metadata": {},
   "outputs": [],
   "source": [
    "rl=Ridge,Lasso()"
   ]
  },
  {
   "cell_type": "code",
   "execution_count": 173,
   "id": "288f38b5-1bd3-4cb0-8983-a2e71786a180",
   "metadata": {},
   "outputs": [],
   "source": [
    "model4=et.fit(x_train, y_train)"
   ]
  },
  {
   "cell_type": "code",
   "execution_count": 174,
   "id": "39779f7a-2a6f-4b7c-96a1-4a855c59038f",
   "metadata": {},
   "outputs": [],
   "source": [
    "tahmin4=model4.predict(x_test)"
   ]
  },
  {
   "cell_type": "code",
   "execution_count": 175,
   "id": "1ce9f155-5fd2-4595-9da6-23a99b0c9431",
   "metadata": {},
   "outputs": [
    {
     "data": {
      "text/plain": [
       "0.8755558540046534"
      ]
     },
     "execution_count": 175,
     "metadata": {},
     "output_type": "execute_result"
    }
   ],
   "source": [
    "r2_score(tahmin4,y_test)"
   ]
  },
  {
   "cell_type": "code",
   "execution_count": 176,
   "id": "0551813d-0359-4dc3-a7ec-add598b9522b",
   "metadata": {},
   "outputs": [
    {
     "data": {
      "text/plain": [
       "11.420934116660606"
      ]
     },
     "execution_count": 176,
     "metadata": {},
     "output_type": "execute_result"
    }
   ],
   "source": [
    "mean_squared_error(tahmin4,y_test)**.5"
   ]
  },
  {
   "cell_type": "code",
   "execution_count": 177,
   "id": "f1803c7a",
   "metadata": {},
   "outputs": [],
   "source": [
    "df.to_pickle('bart_project.pkl')"
   ]
  },
  {
   "cell_type": "markdown",
   "id": "1e59e709-0a04-4495-bf7b-6d99211a01db",
   "metadata": {},
   "source": [
    "* Modellerim başarılı oldu, 4 model denedim hepi %80 i geçti."
   ]
  },
  {
   "cell_type": "code",
   "execution_count": null,
   "id": "2e80bf09-8347-4995-a29d-4353da85f384",
   "metadata": {},
   "outputs": [],
   "source": []
  }
 ],
 "metadata": {
  "kernelspec": {
   "display_name": "Python 3 (ipykernel)",
   "language": "python",
   "name": "python3"
  },
  "language_info": {
   "codemirror_mode": {
    "name": "ipython",
    "version": 3
   },
   "file_extension": ".py",
   "mimetype": "text/x-python",
   "name": "python",
   "nbconvert_exporter": "python",
   "pygments_lexer": "ipython3",
   "version": "3.12.4"
  }
 },
 "nbformat": 4,
 "nbformat_minor": 5
}
